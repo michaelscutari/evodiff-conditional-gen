{
 "cells": [
  {
   "cell_type": "code",
   "execution_count": 3,
   "id": "6913f76d",
   "metadata": {},
   "outputs": [],
   "source": [
    "import pandas as pd\n",
    "from pathlib import Path\n",
    "import protclust\n",
    "\n",
    "data = Path('../data')"
   ]
  },
  {
   "cell_type": "code",
   "execution_count": 3,
   "id": "8fbd6524",
   "metadata": {},
   "outputs": [],
   "source": [
    "dfs = [pd.read_csv(data / f'ec_{i + 1}_reviewed.tsv', sep='\\t') for i in range(7)]\n",
    "for idx, df in enumerate(dfs):\n",
    "    df['label'] = idx + 1"
   ]
  },
  {
   "cell_type": "code",
   "execution_count": null,
   "id": "6c13f55b",
   "metadata": {},
   "outputs": [],
   "source": [
    "df = pd.concat(dfs)\n",
    "df"
   ]
  },
  {
   "cell_type": "code",
   "execution_count": 6,
   "id": "cf7b9b38",
   "metadata": {},
   "outputs": [
    {
     "data": {
      "text/html": [
       "<div>\n",
       "<style scoped>\n",
       "    .dataframe tbody tr th:only-of-type {\n",
       "        vertical-align: middle;\n",
       "    }\n",
       "\n",
       "    .dataframe tbody tr th {\n",
       "        vertical-align: top;\n",
       "    }\n",
       "\n",
       "    .dataframe thead th {\n",
       "        text-align: right;\n",
       "    }\n",
       "</style>\n",
       "<table border=\"1\" class=\"dataframe\">\n",
       "  <thead>\n",
       "    <tr style=\"text-align: right;\">\n",
       "      <th></th>\n",
       "      <th>Entry</th>\n",
       "      <th>Sequence</th>\n",
       "      <th>EC number</th>\n",
       "      <th>label</th>\n",
       "    </tr>\n",
       "  </thead>\n",
       "  <tbody>\n",
       "    <tr>\n",
       "      <th>0</th>\n",
       "      <td>A0A059TC02</td>\n",
       "      <td>MRSVSGQVVCVTGAGGFIASWLVKILLEKGYTVRGTVRNPDDPKNG...</td>\n",
       "      <td>1.2.1.44</td>\n",
       "      <td>1</td>\n",
       "    </tr>\n",
       "    <tr>\n",
       "      <th>1</th>\n",
       "      <td>A0A072ULZ1</td>\n",
       "      <td>MEENKKTVDGSVDFTEEQEALVVKSWNAMKNNSCDLSLKFFTKILE...</td>\n",
       "      <td>1.7.2.-</td>\n",
       "      <td>1</td>\n",
       "    </tr>\n",
       "    <tr>\n",
       "      <th>2</th>\n",
       "      <td>A0A072VDF2</td>\n",
       "      <td>MPAATAAAAAESSSVSGETICVTGAGGFIASWMVKLLLEKGYTVRG...</td>\n",
       "      <td>1.2.1.-; 1.2.1.44</td>\n",
       "      <td>1</td>\n",
       "    </tr>\n",
       "    <tr>\n",
       "      <th>3</th>\n",
       "      <td>A0A075BSX9</td>\n",
       "      <td>MTEKIYDAIVVGAGFSGLVAARELSAQGRSVLIIEARHRLGGRTHV...</td>\n",
       "      <td>1.5.3.5</td>\n",
       "      <td>1</td>\n",
       "    </tr>\n",
       "    <tr>\n",
       "      <th>4</th>\n",
       "      <td>A0A075TMP0</td>\n",
       "      <td>MASTTPSTYKQAVFKEQGAGLTLEEVALTLPKRDEILVKVEACGVC...</td>\n",
       "      <td>1.1.1.-</td>\n",
       "      <td>1</td>\n",
       "    </tr>\n",
       "    <tr>\n",
       "      <th>...</th>\n",
       "      <td>...</td>\n",
       "      <td>...</td>\n",
       "      <td>...</td>\n",
       "      <td>...</td>\n",
       "    </tr>\n",
       "    <tr>\n",
       "      <th>14598</th>\n",
       "      <td>Q9ZYM7</td>\n",
       "      <td>MFINWTMMLISFSIVFLYMFFMTFYFNIFFIFEYNLMSILSFEYKF...</td>\n",
       "      <td>7.1.1.2</td>\n",
       "      <td>7</td>\n",
       "    </tr>\n",
       "    <tr>\n",
       "      <th>14599</th>\n",
       "      <td>Q9ZZ38</td>\n",
       "      <td>MYTLISIIGKYISCLPALLIVAFLTISERKTMASMQRRLGQNIVGY...</td>\n",
       "      <td>7.1.1.2</td>\n",
       "      <td>7</td>\n",
       "    </tr>\n",
       "    <tr>\n",
       "      <th>14600</th>\n",
       "      <td>Q9ZZ43</td>\n",
       "      <td>MVYFMFIMLVGLILGLMAVASNPSPYFAALGLVVAAGVGCGLLVGH...</td>\n",
       "      <td>7.1.1.2</td>\n",
       "      <td>7</td>\n",
       "    </tr>\n",
       "    <tr>\n",
       "      <th>14601</th>\n",
       "      <td>Q9ZZ47</td>\n",
       "      <td>MNLIMSSVAATALISLILAFVAFWLPSLNPDNEKLSPYECGFDPLG...</td>\n",
       "      <td>7.1.1.2</td>\n",
       "      <td>7</td>\n",
       "    </tr>\n",
       "    <tr>\n",
       "      <th>14602</th>\n",
       "      <td>Q9ZZM2</td>\n",
       "      <td>MTYIVSLFLLGLVLGLVAVASNPAPYFAALGLVVAAGVGCGVLVGY...</td>\n",
       "      <td>7.1.1.2</td>\n",
       "      <td>7</td>\n",
       "    </tr>\n",
       "  </tbody>\n",
       "</table>\n",
       "<p>267755 rows × 4 columns</p>\n",
       "</div>"
      ],
      "text/plain": [
       "            Entry                                           Sequence  \\\n",
       "0      A0A059TC02  MRSVSGQVVCVTGAGGFIASWLVKILLEKGYTVRGTVRNPDDPKNG...   \n",
       "1      A0A072ULZ1  MEENKKTVDGSVDFTEEQEALVVKSWNAMKNNSCDLSLKFFTKILE...   \n",
       "2      A0A072VDF2  MPAATAAAAAESSSVSGETICVTGAGGFIASWMVKLLLEKGYTVRG...   \n",
       "3      A0A075BSX9  MTEKIYDAIVVGAGFSGLVAARELSAQGRSVLIIEARHRLGGRTHV...   \n",
       "4      A0A075TMP0  MASTTPSTYKQAVFKEQGAGLTLEEVALTLPKRDEILVKVEACGVC...   \n",
       "...           ...                                                ...   \n",
       "14598      Q9ZYM7  MFINWTMMLISFSIVFLYMFFMTFYFNIFFIFEYNLMSILSFEYKF...   \n",
       "14599      Q9ZZ38  MYTLISIIGKYISCLPALLIVAFLTISERKTMASMQRRLGQNIVGY...   \n",
       "14600      Q9ZZ43  MVYFMFIMLVGLILGLMAVASNPSPYFAALGLVVAAGVGCGLLVGH...   \n",
       "14601      Q9ZZ47  MNLIMSSVAATALISLILAFVAFWLPSLNPDNEKLSPYECGFDPLG...   \n",
       "14602      Q9ZZM2  MTYIVSLFLLGLVLGLVAVASNPAPYFAALGLVVAAGVGCGVLVGY...   \n",
       "\n",
       "               EC number  label  \n",
       "0               1.2.1.44      1  \n",
       "1                1.7.2.-      1  \n",
       "2      1.2.1.-; 1.2.1.44      1  \n",
       "3                1.5.3.5      1  \n",
       "4                1.1.1.-      1  \n",
       "...                  ...    ...  \n",
       "14598            7.1.1.2      7  \n",
       "14599            7.1.1.2      7  \n",
       "14600            7.1.1.2      7  \n",
       "14601            7.1.1.2      7  \n",
       "14602            7.1.1.2      7  \n",
       "\n",
       "[267755 rows x 4 columns]"
      ]
     },
     "execution_count": 6,
     "metadata": {},
     "output_type": "execute_result"
    }
   ],
   "source": [
    "# filter by length\n",
    "filtered_df = df[(df['Sequence'].apply(len) <= 1000) & (df['Sequence'].apply(len) >= 100)]\n",
    "\n",
    "filtered_df"
   ]
  },
  {
   "cell_type": "code",
   "execution_count": 7,
   "id": "d29068f2",
   "metadata": {},
   "outputs": [
    {
     "name": "stderr",
     "output_type": "stream",
     "text": [
      "2025-04-16 01:07:29,827 - protein_clustering - INFO - Cleaning sequences in column 'Sequence' with valid amino acids: ACDEFGHIKLMNPQRSTVWY\n",
      "2025-04-16 01:07:29,831 - protein_clustering - INFO - Input dataframe has 267755 sequences\n",
      "2025-04-16 01:07:33,403 - protein_clustering - INFO - Removed 563 sequences with invalid amino acids\n",
      "2025-04-16 01:07:33,403 - protein_clustering - INFO - Final dataframe has 267192 valid sequences\n"
     ]
    }
   ],
   "source": [
    "cleaned_df = protclust.clean(filtered_df, sequence_col='Sequence')"
   ]
  },
  {
   "cell_type": "code",
   "execution_count": 8,
   "id": "c045d13a",
   "metadata": {},
   "outputs": [
    {
     "name": "stderr",
     "output_type": "stream",
     "text": [
      "2025-04-16 01:07:40,134 - protein_clustering - INFO - Starting sequence clustering with MMseqs2\n",
      "2025-04-16 01:07:40,135 - protein_clustering - INFO - Parameters: min_seq_id=0.95, coverage=0.8, cov_mode=0, alignment_mode=3, cluster_mode=0, cluster_steps=1, random_state=42\n",
      "2025-04-16 01:07:40,143 - protein_clustering - INFO - Clustering 267192 sequences\n",
      "2025-04-16 01:17:20,486 - protein_clustering - INFO - Found 168044 clusters\n",
      "2025-04-16 01:17:20,705 - protein_clustering - INFO - Clustering complete, added 'representative_sequence' column to DataFrame\n"
     ]
    }
   ],
   "source": [
    "clustered_df = protclust.cluster(\n",
    "    cleaned_df, \n",
    "    sequence_col='Sequence', \n",
    "    id_col='Entry', \n",
    "    min_seq_id=0.95, \n",
    "    coverage=0.8, \n",
    "    alignment_mode=3, \n",
    "    random_state=42\n",
    "    )"
   ]
  },
  {
   "cell_type": "code",
   "execution_count": 10,
   "id": "e03e6848",
   "metadata": {},
   "outputs": [],
   "source": [
    "clustered_df.to_csv(data / 'clustered_data.csv')"
   ]
  },
  {
   "cell_type": "code",
   "execution_count": 4,
   "id": "9b5fe033",
   "metadata": {},
   "outputs": [],
   "source": [
    "clustered_df = pd.read_csv(data / 'clustered_data.csv')"
   ]
  },
  {
   "cell_type": "code",
   "execution_count": null,
   "id": "3ef56ad8",
   "metadata": {},
   "outputs": [
    {
     "name": "stderr",
     "output_type": "stream",
     "text": [
      "2025-04-16 09:47:00,961 - protein_clustering - INFO - Splitting data by 'representative_sequence' with target test size 0.1\n",
      "2025-04-16 09:47:00,963 - protein_clustering - INFO - Total sequence count: 267192\n",
      "2025-04-16 09:47:00,964 - protein_clustering - INFO - Target test count: 26719\n"
     ]
    }
   ],
   "source": [
    "train_df, test_df = protclust.split(clustered_df, test_size=0.1, random_state=42)"
   ]
  },
  {
   "cell_type": "code",
   "execution_count": 5,
   "id": "8b726cc8",
   "metadata": {},
   "outputs": [],
   "source": [
    "# get unique representative sequences\n",
    "representative_entries = clustered_df['representative_sequence'].unique()\n",
    "representative_df = clustered_df[clustered_df['Entry'].isin(representative_entries)].copy()"
   ]
  },
  {
   "cell_type": "code",
   "execution_count": null,
   "id": "73672397",
   "metadata": {},
   "outputs": [
    {
     "name": "stderr",
     "output_type": "stream",
     "text": [
      "2025-04-16 11:36:22,382 - protein_clustering - INFO - Splitting data by 'representative_sequence' with target test size 0.1\n",
      "2025-04-16 11:36:22,385 - protein_clustering - INFO - Total sequence count: 172134\n",
      "2025-04-16 11:36:22,387 - protein_clustering - INFO - Target test count: 17213\n",
      "Exception ignored in: <bound method IPythonKernel._clean_thread_parent_frames of <ipykernel.ipkernel.IPythonKernel object at 0x7f2b7a963c70>>\n",
      "Traceback (most recent call last):\n",
      "  File \"/hpc/group/singhlab/user/mas296/MICROMAMBA/envs/enzyme_diffusion/lib/python3.8/site-packages/ipykernel/ipkernel.py\", line 775, in _clean_thread_parent_frames\n",
      "    def _clean_thread_parent_frames(\n",
      "KeyboardInterrupt: \n"
     ]
    },
    {
     "ename": "KeyboardInterrupt",
     "evalue": "",
     "output_type": "error",
     "traceback": [
      "\u001b[0;31m---------------------------------------------------------------------------\u001b[0m",
      "\u001b[0;31mKeyboardInterrupt\u001b[0m                         Traceback (most recent call last)",
      "Cell \u001b[0;32mIn[15], line 2\u001b[0m\n\u001b[1;32m      1\u001b[0m representative_df\u001b[38;5;241m.\u001b[39mreset_index(drop\u001b[38;5;241m=\u001b[39m\u001b[38;5;28;01mTrue\u001b[39;00m)\n\u001b[0;32m----> 2\u001b[0m train_df, test_df \u001b[38;5;241m=\u001b[39m \u001b[43mprotclust\u001b[49m\u001b[38;5;241;43m.\u001b[39;49m\u001b[43msplit\u001b[49m\u001b[43m(\u001b[49m\u001b[43mrepresentative_df\u001b[49m\u001b[43m,\u001b[49m\u001b[43m \u001b[49m\u001b[43mtest_size\u001b[49m\u001b[38;5;241;43m=\u001b[39;49m\u001b[38;5;241;43m0.1\u001b[39;49m\u001b[43m,\u001b[49m\u001b[43m \u001b[49m\u001b[43mrandom_state\u001b[49m\u001b[38;5;241;43m=\u001b[39;49m\u001b[38;5;241;43m42\u001b[39;49m\u001b[43m)\u001b[49m\n",
      "File \u001b[0;32m/hpc/group/singhlab/user/mas296/MICROMAMBA/envs/enzyme_diffusion/lib/python3.8/site-packages/protclust/splitting.py:68\u001b[0m, in \u001b[0;36msplit\u001b[0;34m(df, group_col, test_size, random_state, tolerance)\u001b[0m\n\u001b[1;32m     66\u001b[0m current_dp \u001b[38;5;241m=\u001b[39m \u001b[38;5;28mdict\u001b[39m(dp)\n\u001b[1;32m     67\u001b[0m \u001b[38;5;28;01mfor\u001b[39;00m current_sum, idx_list \u001b[38;5;129;01min\u001b[39;00m dp\u001b[38;5;241m.\u001b[39mitems():\n\u001b[0;32m---> 68\u001b[0m     new_sum \u001b[38;5;241m=\u001b[39m \u001b[43mcurrent_sum\u001b[49m\u001b[43m \u001b[49m\u001b[38;5;241;43m+\u001b[39;49m\u001b[43m \u001b[49m\u001b[43mgroup_size\u001b[49m\n\u001b[1;32m     69\u001b[0m     \u001b[38;5;28;01mif\u001b[39;00m new_sum \u001b[38;5;129;01mnot\u001b[39;00m \u001b[38;5;129;01min\u001b[39;00m current_dp:\n\u001b[1;32m     70\u001b[0m         current_dp[new_sum] \u001b[38;5;241m=\u001b[39m idx_list \u001b[38;5;241m+\u001b[39m [idx]\n",
      "\u001b[0;31mKeyboardInterrupt\u001b[0m: "
     ]
    }
   ],
   "source": [
    "representative_df.reset_index(drop=True)\n",
    "train_df, test_df = protclust.split(representative_df, test_size=0.1, random_state=42)"
   ]
  },
  {
   "cell_type": "code",
   "execution_count": 7,
   "id": "97a20d70",
   "metadata": {},
   "outputs": [
    {
     "data": {
      "text/html": [
       "<div>\n",
       "<style scoped>\n",
       "    .dataframe tbody tr th:only-of-type {\n",
       "        vertical-align: middle;\n",
       "    }\n",
       "\n",
       "    .dataframe tbody tr th {\n",
       "        vertical-align: top;\n",
       "    }\n",
       "\n",
       "    .dataframe thead th {\n",
       "        text-align: right;\n",
       "    }\n",
       "</style>\n",
       "<table border=\"1\" class=\"dataframe\">\n",
       "  <thead>\n",
       "    <tr style=\"text-align: right;\">\n",
       "      <th></th>\n",
       "      <th>Unnamed: 0</th>\n",
       "      <th>Entry</th>\n",
       "      <th>Sequence</th>\n",
       "      <th>EC number</th>\n",
       "      <th>label</th>\n",
       "      <th>representative_sequence</th>\n",
       "    </tr>\n",
       "  </thead>\n",
       "  <tbody>\n",
       "    <tr>\n",
       "      <th>35900</th>\n",
       "      <td>194668</td>\n",
       "      <td>J7LMP2</td>\n",
       "      <td>MDLAKQISVVDSSLQDVTRNITRPLANFHPNVWGDRFLLNNSDQVQ...</td>\n",
       "      <td>4.2.3.100</td>\n",
       "      <td>4</td>\n",
       "      <td>J7LMP2</td>\n",
       "    </tr>\n",
       "    <tr>\n",
       "      <th>142168</th>\n",
       "      <td>257730</td>\n",
       "      <td>O21280</td>\n",
       "      <td>MNLTKIQNLTIHNITGIRSNKIIFQNINFSLEKGSLFIIQGSNGSG...</td>\n",
       "      <td>7.6.2.5</td>\n",
       "      <td>7</td>\n",
       "      <td>O21280</td>\n",
       "    </tr>\n",
       "    <tr>\n",
       "      <th>114743</th>\n",
       "      <td>37239</td>\n",
       "      <td>P39421</td>\n",
       "      <td>MKYSVMQLKDFKIKSMDASVRASIREELLSEGFNLSEIELLIHCIT...</td>\n",
       "      <td>2.4.2.31</td>\n",
       "      <td>2</td>\n",
       "      <td>P39421</td>\n",
       "    </tr>\n",
       "  </tbody>\n",
       "</table>\n",
       "</div>"
      ],
      "text/plain": [
       "        Unnamed: 0   Entry                                           Sequence  \\\n",
       "35900       194668  J7LMP2  MDLAKQISVVDSSLQDVTRNITRPLANFHPNVWGDRFLLNNSDQVQ...   \n",
       "142168      257730  O21280  MNLTKIQNLTIHNITGIRSNKIIFQNINFSLEKGSLFIIQGSNGSG...   \n",
       "114743       37239  P39421  MKYSVMQLKDFKIKSMDASVRASIREELLSEGFNLSEIELLIHCIT...   \n",
       "\n",
       "        EC number  label representative_sequence  \n",
       "35900   4.2.3.100      4                  J7LMP2  \n",
       "142168    7.6.2.5      7                  O21280  \n",
       "114743   2.4.2.31      2                  P39421  "
      ]
     },
     "execution_count": 7,
     "metadata": {},
     "output_type": "execute_result"
    }
   ],
   "source": [
    "train_df.head(3)"
   ]
  },
  {
   "cell_type": "code",
   "execution_count": null,
   "id": "3ca7643c",
   "metadata": {},
   "outputs": [],
   "source": [
    "train_df = train_df.reset_index(drop=True).drop(labels=['representative_sequence'], axis=1)\n",
    "test_df = test_df.reset_index(drop=True).drop(labels=['representative_sequence'], axis=1)"
   ]
  },
  {
   "cell_type": "code",
   "execution_count": 9,
   "id": "e52d422b",
   "metadata": {},
   "outputs": [],
   "source": [
    "train_df.to_csv(data / 'train_ec_all.csv', index=False)\n",
    "test_df.to_csv(data / 'test_ec_all.csv', index=False)"
   ]
  }
 ],
 "metadata": {
  "kernelspec": {
   "display_name": "Python 3 (ipykernel)",
   "language": "python",
   "name": "python3"
  },
  "language_info": {
   "codemirror_mode": {
    "name": "ipython",
    "version": 3
   },
   "file_extension": ".py",
   "mimetype": "text/x-python",
   "name": "python",
   "nbconvert_exporter": "python",
   "pygments_lexer": "ipython3",
   "version": "3.8.20"
  }
 },
 "nbformat": 4,
 "nbformat_minor": 5
}
