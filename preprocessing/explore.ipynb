{
 "cells": [
  {
   "cell_type": "code",
   "execution_count": 1,
   "id": "f7a8eec7",
   "metadata": {},
   "outputs": [],
   "source": [
    "import pandas as pd\n",
    "from pathlib import Path\n",
    "\n",
    "data = Path('data')"
   ]
  },
  {
   "cell_type": "code",
   "execution_count": 4,
   "id": "ecdbe4f6",
   "metadata": {},
   "outputs": [],
   "source": [
    "train_df = pd.read_csv(data / 'train_ec_311.csv', index_col=0)\n",
    "test_df = pd.read_csv(data / 'test_ec_311.csv', index_col=0)\n",
    "df = pd.concat([train_df, test_df])"
   ]
  },
  {
   "cell_type": "code",
   "execution_count": 10,
   "id": "2b184338",
   "metadata": {},
   "outputs": [
    {
     "name": "stdout",
     "output_type": "stream",
     "text": [
      "10th percentile: 147\n",
      "90th percentile: 583\n"
     ]
    }
   ],
   "source": [
    "lengths = df['Sequence'].apply(len).sort_values()\n",
    "print(f'10th percentile: {lengths[int(0.1 * len(lengths))]}\\n90th percentile: {lengths[int(0.9 * len(lengths))]}')"
   ]
  },
  {
   "cell_type": "code",
   "execution_count": 26,
   "id": "409788be",
   "metadata": {},
   "outputs": [
    {
     "name": "stdout",
     "output_type": "stream",
     "text": [
      "3.1.1.29    466\n",
      "3.1.1.-     430\n",
      "3.1.1.96    351\n",
      "3.1.1.4     262\n",
      "3.1.11.6    214\n",
      "           ... \n",
      "3.1.1.67      1\n",
      "3.1.1.20      1\n",
      "3.1.1.35      1\n",
      "3.5.1.-       1\n",
      "1.-.-.-       1\n",
      "Name: count, Length: 152, dtype: int64\n"
     ]
    }
   ],
   "source": [
    "all_ec_numbers = []\n",
    "for index, row in df.iterrows():\n",
    "    ec_string = str(row['EC number'])  # Ensure it's a string\n",
    "    if ';' in ec_string:\n",
    "        ec_labels = [label.strip() for label in ec_string.split(';')] # Split and remove extra spaces\n",
    "        all_ec_numbers.extend(ec_labels)\n",
    "    else:\n",
    "        all_ec_numbers.append(ec_string.strip()) # Add single label and remove spaces\n",
    "\n",
    "individual_ec_counts = pd.Series(all_ec_numbers).value_counts()\n",
    "print(individual_ec_counts)"
   ]
  }
 ],
 "metadata": {
  "kernelspec": {
   "display_name": "Python 3 (ipykernel)",
   "language": "python",
   "name": "python3"
  }
 },
 "nbformat": 4,
 "nbformat_minor": 5
}
